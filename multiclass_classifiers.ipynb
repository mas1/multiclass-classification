{
  "nbformat": 4,
  "nbformat_minor": 0,
  "metadata": {
    "colab": {
      "name": "multiclass_classifiers.ipynb",
      "provenance": []
    },
    "kernelspec": {
      "name": "python3",
      "display_name": "Python 3"
    }
  },
  "cells": [
    {
      "cell_type": "markdown",
      "metadata": {
        "id": "mzEy8vPmM09C",
        "colab_type": "text"
      },
      "source": [
        "## multiclass classification"
      ]
    },
    {
      "cell_type": "markdown",
      "metadata": {
        "id": "nBMeQhCHMmAI",
        "colab_type": "text"
      },
      "source": [
        "The dataset is the digits dataset available from the sklearn's datasets library. This dataset contain 1797 samples of written digits. The goal is to correctly identify digits from 0 to 9.\n",
        "\n",
        "I will train two models to perform multiclass classification and comapare their results. "
      ]
    },
    {
      "cell_type": "code",
      "metadata": {
        "id": "thzIX41swQ6A",
        "colab_type": "code",
        "colab": {}
      },
      "source": [
        "from sklearn.linear_model import LogisticRegression\n",
        "from sklearn.ensemble import RandomForestClassifier\n",
        "from sklearn.datasets import load_digits\n",
        "from sklearn.model_selection import train_test_split, cross_val_score\n",
        "from sklearn.metrics import  classification_report, confusion_matrix\n",
        "\n",
        "import matplotlib.pyplot as plt\n",
        "import pandas as pd\n",
        "import numpy as np\n",
        "import seaborn as sns\n"
      ],
      "execution_count": 24,
      "outputs": []
    },
    {
      "cell_type": "code",
      "metadata": {
        "id": "nGL7JEjVwl9J",
        "colab_type": "code",
        "colab": {}
      },
      "source": [
        "digits = load_digits()\n",
        "X, y = load_digits(return_X_y=True)"
      ],
      "execution_count": 13,
      "outputs": []
    },
    {
      "cell_type": "code",
      "metadata": {
        "id": "DLi_skYPwz8V",
        "colab_type": "code",
        "colab": {
          "base_uri": "https://localhost:8080/",
          "height": 34
        },
        "outputId": "79ed82e2-ec3e-41de-e33c-fa43e99826b2"
      },
      "source": [
        "print(f'the number of rows and featurse in the dataset is: {X.shape}')"
      ],
      "execution_count": 11,
      "outputs": [
        {
          "output_type": "stream",
          "text": [
            "the number of rows and featurse in the dataset is: (1797, 64)\n"
          ],
          "name": "stdout"
        }
      ]
    },
    {
      "cell_type": "markdown",
      "metadata": {
        "id": "QAwvjPluMgUY",
        "colab_type": "text"
      },
      "source": [
        "A visual representation of the digits data set."
      ]
    },
    {
      "cell_type": "code",
      "metadata": {
        "id": "mmkybUFTKVgS",
        "colab_type": "code",
        "colab": {
          "base_uri": "https://localhost:8080/",
          "height": 292
        },
        "outputId": "4257c4ba-f6e4-4736-a0d1-494109c5cc90"
      },
      "source": [
        ">>> plt.gray() \n",
        ">>> plt.matshow(digits.images[0]) \n",
        ">>> plt.show() "
      ],
      "execution_count": 16,
      "outputs": [
        {
          "output_type": "display_data",
          "data": {
            "text/plain": [
              "<Figure size 432x288 with 0 Axes>"
            ]
          },
          "metadata": {
            "tags": []
          }
        },
        {
          "output_type": "display_data",
          "data": {
            "image/png": "[encoded data removed]",
            "text/plain": [
              "<Figure size 288x288 with 1 Axes>"
            ]
          },
          "metadata": {
            "tags": [],
            "needs_background": "light"
          }
        }
      ]
    },
    {
      "cell_type": "markdown",
      "metadata": {
        "id": "u_VkOBmyNSV2",
        "colab_type": "text"
      },
      "source": [
        "Numpy's bincount will show how many samples belong to each class. We can see the datset is balanced."
      ]
    },
    {
      "cell_type": "code",
      "metadata": {
        "id": "7HGtEtAxLSCY",
        "colab_type": "code",
        "colab": {
          "base_uri": "https://localhost:8080/",
          "height": 34
        },
        "outputId": "e199c2c5-3284-46a8-ac72-dbb0f08cd467"
      },
      "source": [
        "np.bincount(y)"
      ],
      "execution_count": 18,
      "outputs": [
        {
          "output_type": "execute_result",
          "data": {
            "text/plain": [
              "array([178, 182, 177, 183, 181, 182, 181, 179, 174, 180])"
            ]
          },
          "metadata": {
            "tags": []
          },
          "execution_count": 18
        }
      ]
    },
    {
      "cell_type": "code",
      "metadata": {
        "id": "e8ILHgmRNMxz",
        "colab_type": "code",
        "colab": {}
      },
      "source": [
        "X_train, X_test, y_train, y_test = train_test_split(\n",
        "    X, y, test_size=.2, random_state=20\n",
        ")"
      ],
      "execution_count": 20,
      "outputs": []
    },
    {
      "cell_type": "markdown",
      "metadata": {
        "id": "kNmj3qxJRylz",
        "colab_type": "text"
      },
      "source": [
        "### Logistic Regression"
      ]
    },
    {
      "cell_type": "markdown",
      "metadata": {
        "id": "Qf-iLDSBNuyo",
        "colab_type": "text"
      },
      "source": [
        "First we will create a logistic regression classifier and use 5-fold cross validation to train the model.\n",
        "\n",
        "We set multi-class to OvR (one vs rest)\n",
        "\n",
        "OvR simply breaks the problem down into a series of binary problems. \n"
      ]
    },
    {
      "cell_type": "code",
      "metadata": {
        "id": "u_QpmdyCNq70",
        "colab_type": "code",
        "colab": {}
      },
      "source": [
        "lr_classifier = LogisticRegression(solver='lbfgs', multi_class='ovr', max_iter=1000, random_state=20)\n",
        "lr_classifier.fit(X_train, y_train)\n",
        "lr_cv_score = cross_val_score(lr_classifier, X_test, y_test, cv=5)\n"
      ],
      "execution_count": 31,
      "outputs": []
    },
    {
      "cell_type": "code",
      "metadata": {
        "id": "6LVYF629REac",
        "colab_type": "code",
        "colab": {
          "base_uri": "https://localhost:8080/",
          "height": 51
        },
        "outputId": "2fceef20-2fe4-48bd-c89d-a9843903851d"
      },
      "source": [
        "print(f'Accuracy scores for the 5 folds:{lr_cv_score}')\n",
        "print(f'Mean cross validation score:{lr_cv_score.mean()}')"
      ],
      "execution_count": 32,
      "outputs": [
        {
          "output_type": "stream",
          "text": [
            "Accuracy scores for the 5 folds:[0.95833333 0.95833333 0.95833333 0.90277778 0.94444444]\n",
            "Mean cross validation score:0.9444444444444444\n"
          ],
          "name": "stdout"
        }
      ]
    },
    {
      "cell_type": "code",
      "metadata": {
        "id": "z9NvwImbQPmu",
        "colab_type": "code",
        "colab": {
          "base_uri": "https://localhost:8080/",
          "height": 306
        },
        "outputId": "487c5f36-a82f-4555-969c-85d49b99f766"
      },
      "source": [
        "preds = lr_classifier.predict(X_test)\n",
        "print(classification_report(y_test, preds))"
      ],
      "execution_count": 38,
      "outputs": [
        {
          "output_type": "stream",
          "text": [
            "              precision    recall  f1-score   support\n",
            "\n",
            "           0       1.00      1.00      1.00        37\n",
            "           1       0.94      0.97      0.95        31\n",
            "           2       0.97      1.00      0.98        28\n",
            "           3       0.97      1.00      0.99        38\n",
            "           4       1.00      1.00      1.00        41\n",
            "           5       1.00      0.94      0.97        33\n",
            "           6       1.00      0.98      0.99        45\n",
            "           7       0.97      0.97      0.97        40\n",
            "           8       0.97      0.94      0.96        35\n",
            "           9       0.94      0.97      0.95        32\n",
            "\n",
            "    accuracy                           0.98       360\n",
            "   macro avg       0.98      0.98      0.98       360\n",
            "weighted avg       0.98      0.98      0.98       360\n",
            "\n"
          ],
          "name": "stdout"
        }
      ]
    },
    {
      "cell_type": "markdown",
      "metadata": {
        "id": "QP50VmXvRvNP",
        "colab_type": "text"
      },
      "source": [
        "### Random Forest"
      ]
    },
    {
      "cell_type": "markdown",
      "metadata": {
        "id": "AxWWfJmqRoW8",
        "colab_type": "text"
      },
      "source": [
        "Now we will perform the same steps, this time using a random forest classifier.\n"
      ]
    },
    {
      "cell_type": "code",
      "metadata": {
        "id": "cltQ6C0GRm2H",
        "colab_type": "code",
        "colab": {}
      },
      "source": [
        "rf_classifier = RandomForestClassifier(n_estimators=24, criterion='entropy', )\n",
        "rf_classifier.fit(X_train, y_train)\n",
        "rf_cv_score = cross_val_score(rf_classifier, X_test, y_test, cv=5)"
      ],
      "execution_count": 41,
      "outputs": []
    },
    {
      "cell_type": "code",
      "metadata": {
        "id": "n5GWp_6ISazq",
        "colab_type": "code",
        "colab": {
          "base_uri": "https://localhost:8080/",
          "height": 51
        },
        "outputId": "70991ec8-9c31-423a-f762-37122647daae"
      },
      "source": [
        "print(f'Accuracy scores for the 5 folds:{rf_cv_score}')\n",
        "print(f'Mean cross validation score:{rf_cv_score.mean()}')"
      ],
      "execution_count": 42,
      "outputs": [
        {
          "output_type": "stream",
          "text": [
            "Accuracy scores for the 5 folds:[0.90277778 0.90277778 0.97222222 0.94444444 0.90277778]\n",
            "Mean cross validation score:0.925\n"
          ],
          "name": "stdout"
        }
      ]
    },
    {
      "cell_type": "code",
      "metadata": {
        "id": "fpDR8mlLSfWj",
        "colab_type": "code",
        "colab": {
          "base_uri": "https://localhost:8080/",
          "height": 306
        },
        "outputId": "2ab65c2f-02f6-4a85-f7e6-f11d44610917"
      },
      "source": [
        "preds = rf_classifier.predict(X_test)\n",
        "print(classification_report(y_test, preds))"
      ],
      "execution_count": 43,
      "outputs": [
        {
          "output_type": "stream",
          "text": [
            "              precision    recall  f1-score   support\n",
            "\n",
            "           0       1.00      1.00      1.00        37\n",
            "           1       0.94      1.00      0.97        31\n",
            "           2       1.00      1.00      1.00        28\n",
            "           3       1.00      1.00      1.00        38\n",
            "           4       1.00      0.98      0.99        41\n",
            "           5       0.97      0.97      0.97        33\n",
            "           6       1.00      0.98      0.99        45\n",
            "           7       1.00      1.00      1.00        40\n",
            "           8       1.00      1.00      1.00        35\n",
            "           9       0.94      0.94      0.94        32\n",
            "\n",
            "    accuracy                           0.99       360\n",
            "   macro avg       0.98      0.99      0.99       360\n",
            "weighted avg       0.99      0.99      0.99       360\n",
            "\n"
          ],
          "name": "stdout"
        }
      ]
    },
    {
      "cell_type": "markdown",
      "metadata": {
        "id": "UGrpwjptSyOt",
        "colab_type": "text"
      },
      "source": [
        "### Analysis"
      ]
    },
    {
      "cell_type": "markdown",
      "metadata": {
        "id": "G3dlzcTvS2Yi",
        "colab_type": "text"
      },
      "source": [
        "Overall, the logistic regression model performed better than the random forest. In larger datasets, random forest tends to outperform logisitc regression. To improve the logisitc regression model I could perform a grid search and tune the hyperparameter. \n",
        "\n",
        "I could also further tune the random forest.... For example changing the criteron to entropy rather than gini provided a significant increase in accuracy. "
      ]
    },
    {
      "cell_type": "code",
      "metadata": {
        "id": "-ostKPnHVGAT",
        "colab_type": "code",
        "colab": {}
      },
      "source": [
        ""
      ],
      "execution_count": null,
      "outputs": []
    }
  ]
}